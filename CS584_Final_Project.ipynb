{
  "cells": [
    {
      "cell_type": "markdown",
      "metadata": {
        "id": "dXDliHbV2jNK"
      },
      "source": [
        "Jonathan Pruchansky\n",
        "\n",
        "I will build a model that takes two sentences as an input and returns 0 or 1 depending on whether or not they have the same semantic meaning."
      ]
    },
    {
      "cell_type": "markdown",
      "metadata": {
        "id": "TA1qJI6845ck"
      },
      "source": [
        "##Step 1: Loading word2vec embeddings##\n",
        "To avoid wasting extra time training word embeddings, we will use pretrained word embeddings. These embeddings are sourced from my results for assignment 2. I have provided the weights for this model along with the source."
      ]
    },
    {
      "cell_type": "code",
      "execution_count": null,
      "metadata": {
        "id": "7ZzKn_a841iw"
      },
      "outputs": [],
      "source": [
        "import numpy as np"
      ]
    },
    {
      "cell_type": "code",
      "source": [
        "embeddings = np.load(\"center_vecs.npy\")"
      ],
      "metadata": {
        "id": "IKptO2FY7z3h"
      },
      "execution_count": null,
      "outputs": []
    },
    {
      "cell_type": "markdown",
      "metadata": {
        "id": "0VxDDuli5i9V"
      },
      "source": [
        "##Step 2: Load, preprocess, and embed all the data##\n",
        "To avoid calculating the embeddings every model run, we will pre calculate the embeddings for every datapoint. These embeddings will be fed directly as input to the models."
      ]
    },
    {
      "cell_type": "code",
      "execution_count": null,
      "metadata": {
        "colab": {
          "base_uri": "https://localhost:8080/"
        },
        "id": "UWr2LPV77_Hu",
        "outputId": "252ad935-fe7d-4512-abe8-8d67f9275f94"
      },
      "outputs": [
        {
          "output_type": "stream",
          "name": "stdout",
          "text": [
            "Basic Info:\n",
            "Total Training Samples: 404348\n",
            "Total Positive Samples: 149306\n",
            "Total Negative Samples: 255042\n"
          ]
        }
      ],
      "source": [
        "import pandas as pd\n",
        "\n",
        "data = pd.read_csv(\"questions.csv\") #load data\n",
        "data = data.dropna() #drop nan values\n",
        "\n",
        "X1 = data[\"question1\"] #input 1\n",
        "X2 = data[\"question2\"] #input 2\n",
        "y = data[\"is_duplicate\"] #labels\n",
        "\n",
        "#Some basic statistics:\n",
        "print(\"Basic Info:\")\n",
        "assert len(X1) == len(X2), \"Data lengths do not match!\"\n",
        "print(f\"Total Training Samples: {len(X1)}\")\n",
        "print(f\"Total Positive Samples: {np.count_nonzero(y)}\")\n",
        "print(f\"Total Negative Samples: {len(X1) - np.count_nonzero(y)}\")"
      ]
    },
    {
      "cell_type": "code",
      "source": [
        "import json\n",
        "\n",
        "with open(\"vocab_index.json\") as f:\n",
        "  custom_vocab = json.load(f)\n",
        "\n",
        "print(f\"Total vocab size: {len(custom_vocab)}\")"
      ],
      "metadata": {
        "colab": {
          "base_uri": "https://localhost:8080/"
        },
        "id": "Vfs4Ato4yuo5",
        "outputId": "8a2d03ab-776f-4d5a-8fff-8ba3fdae409f"
      },
      "execution_count": null,
      "outputs": [
        {
          "output_type": "stream",
          "name": "stdout",
          "text": [
            "Total vocab size: 102299\n"
          ]
        }
      ]
    },
    {
      "cell_type": "code",
      "execution_count": null,
      "metadata": {
        "id": "pOYcOAFi9TBl"
      },
      "outputs": [],
      "source": [
        "import tensorflow as tf\n",
        "from tensorflow.keras.preprocessing.text import Tokenizer\n",
        "\n",
        "tokenizer = Tokenizer(len(custom_vocab), oov_token=\"<unk>\") #initialize tokenizer\n",
        "tokenizer.word_index = custom_vocab #set custom vocab indices (to match my pretrained vocab)\n",
        "\n",
        "X1_tokens = tokenizer.texts_to_sequences(X1) #tokenize input 1\n",
        "X2_tokens = tokenizer.texts_to_sequences(X2) #tokenize input 2\n",
        "\n",
        "#filter out empty entries (sentences that couldn't be tokenized properly)\n",
        "\n",
        "#first, grab all the indices where the data is empty\n",
        "empty_indices = {i for i in range(len(X1)) if X1_tokens[i] == [] or X2_tokens[i] == []}\n",
        "\n",
        "#now drop those indices from every series\n",
        "X1 = X1.drop(empty_indices).reset_index(drop=True)\n",
        "X2 = X2.drop(empty_indices).reset_index(drop=True)\n",
        "y = y.drop(empty_indices).reset_index(drop=True)\n",
        "\n",
        "X1_tokens = [X1_tokens[i] for i in range(len(X1_tokens)) if i not in empty_indices]\n",
        "X2_tokens = [X2_tokens[i] for i in range(len(X2_tokens)) if i not in empty_indices]"
      ]
    },
    {
      "cell_type": "code",
      "source": [
        "print(X1[0])\n",
        "print(X1_tokens[0])\n",
        "print()\n",
        "print(X2[0])\n",
        "print(X2_tokens[0])"
      ],
      "metadata": {
        "colab": {
          "base_uri": "https://localhost:8080/"
        },
        "id": "E42QgGLpAxoh",
        "outputId": "e7fe784c-ac61-46b4-d7f2-5b68ba32725f"
      },
      "execution_count": null,
      "outputs": [
        {
          "output_type": "stream",
          "name": "stdout",
          "text": [
            "What is the step by step guide to invest in share market in india?\n",
            "[46, 5, 0, 1443, 32, 1443, 3586, 4, 8362, 7, 1542, 2448, 7, 2227]\n",
            "\n",
            "What is the step by step guide to invest in share market?\n",
            "[46, 5, 0, 1443, 32, 1443, 3586, 4, 8362, 7, 1542, 2448]\n"
          ]
        }
      ]
    },
    {
      "cell_type": "code",
      "source": [
        "X1_embeddings = [[embeddings[token] for token in sentence] for sentence in X1_tokens] #convert each token to an embedding\n",
        "X2_embeddings = [[embeddings[token] for token in sentence] for sentence in X2_tokens]"
      ],
      "metadata": {
        "id": "Rq4HX4VCC8rg"
      },
      "execution_count": null,
      "outputs": []
    },
    {
      "cell_type": "code",
      "source": [
        "from sklearn.model_selection import train_test_split\n",
        "\n",
        "X_train_indx, X_test_indx, y_train, y_test = train_test_split(np.arange(len(X1)), y, test_size=0.2, random_state=1234) #split both input sets the same way"
      ],
      "metadata": {
        "id": "A-8bAlj1EZiF"
      },
      "execution_count": null,
      "outputs": []
    },
    {
      "cell_type": "markdown",
      "metadata": {
        "id": "Rewv6AY-5Sqq"
      },
      "source": [
        "##Step 3: Approach 1 - Feedforward Neural Network##\n",
        "The first approach is a simple feed foward neural network. We take the average of every embedding in the sentence and feed it into the network. It spits out a number 0 or 1."
      ]
    },
    {
      "cell_type": "code",
      "execution_count": null,
      "metadata": {
        "id": "dBz2QHAI00Jx"
      },
      "outputs": [],
      "source": [
        "from tensorflow.keras import Model\n",
        "from tensorflow.keras.layers import Dense\n",
        "\n",
        "class FeedForwardClassifier(Model):\n",
        "  def __init__(self, layer1_units, layer2_units):\n",
        "    super().__init__()\n",
        "    self.dense1 = Dense(layer1_units, activation='relu')\n",
        "    self.dense2 = Dense(layer2_units, activation='relu')\n",
        "    self.output_layer = Dense(1, activation='sigmoid')\n",
        "\n",
        "  def call(self, inputs):\n",
        "    \"\"\"inputs: (batch_size * (2*embedding_dim))\"\"\"\n",
        "    h1 = self.dense1(inputs)\n",
        "    h2 = self.dense2(h1)\n",
        "    return self.output_layer(h2)\n",
        "\n",
        "#additions: could add dropout"
      ]
    },
    {
      "cell_type": "code",
      "source": [
        "X1_avg = np.array([np.mean(sentence, axis=0) for sentence in X1_embeddings]) #find the average embedding vector for every sentence\n",
        "X2_avg = np.array([np.mean(sentence, axis=0) for sentence in X2_embeddings])"
      ],
      "metadata": {
        "id": "rTptZjGZH5Y_"
      },
      "execution_count": null,
      "outputs": []
    },
    {
      "cell_type": "code",
      "source": [
        "X_avg_concat = np.concat([X1_avg, X2_avg], axis=-1)\n",
        "X_avg_concat_train = X_avg_concat[X_train_indx]"
      ],
      "metadata": {
        "id": "Es1134PGNJ2O"
      },
      "execution_count": null,
      "outputs": []
    },
    {
      "cell_type": "code",
      "source": [
        "from tensorflow.keras.metrics import Precision, Recall\n",
        "\n",
        "layer1 = 256\n",
        "layer2 = 64\n",
        "\n",
        "model = FeedForwardClassifier(layer1, layer2)\n",
        "model.compile(optimizer='adam', loss='BinaryCrossentropy', metrics=['accuracy', Precision(), Recall()])\n",
        "\n",
        "# Train the model\n",
        "history = model.fit(X_avg_concat_train, y_train, epochs=10, batch_size=32, validation_split=.2)"
      ],
      "metadata": {
        "colab": {
          "base_uri": "https://localhost:8080/"
        },
        "id": "_wGP5n1KJuGW",
        "outputId": "89fca136-dc90-4e0f-897f-e9064cc06df5"
      },
      "execution_count": null,
      "outputs": [
        {
          "output_type": "stream",
          "name": "stdout",
          "text": [
            "Epoch 1/10\n",
            "\u001b[1m8087/8087\u001b[0m \u001b[32m━━━━━━━━━━━━━━━━━━━━\u001b[0m\u001b[37m\u001b[0m \u001b[1m26s\u001b[0m 3ms/step - accuracy: 0.6935 - loss: 0.5733 - precision_4: 0.6175 - recall_3: 0.4227 - val_accuracy: 0.7329 - val_loss: 0.5139 - val_precision_4: 0.6684 - val_recall_3: 0.5498\n",
            "Epoch 2/10\n",
            "\u001b[1m8087/8087\u001b[0m \u001b[32m━━━━━━━━━━━━━━━━━━━━\u001b[0m\u001b[37m\u001b[0m \u001b[1m42s\u001b[0m 3ms/step - accuracy: 0.7414 - loss: 0.5000 - precision_4: 0.6647 - recall_3: 0.5972 - val_accuracy: 0.7428 - val_loss: 0.4960 - val_precision_4: 0.6658 - val_recall_3: 0.6101\n",
            "Epoch 3/10\n",
            "\u001b[1m8087/8087\u001b[0m \u001b[32m━━━━━━━━━━━━━━━━━━━━\u001b[0m\u001b[37m\u001b[0m \u001b[1m23s\u001b[0m 3ms/step - accuracy: 0.7546 - loss: 0.4800 - precision_4: 0.6839 - recall_3: 0.6230 - val_accuracy: 0.7501 - val_loss: 0.4859 - val_precision_4: 0.6705 - val_recall_3: 0.6360\n",
            "Epoch 4/10\n",
            "\u001b[1m8087/8087\u001b[0m \u001b[32m━━━━━━━━━━━━━━━━━━━━\u001b[0m\u001b[37m\u001b[0m \u001b[1m24s\u001b[0m 3ms/step - accuracy: 0.7656 - loss: 0.4628 - precision_4: 0.6988 - recall_3: 0.6421 - val_accuracy: 0.7533 - val_loss: 0.4795 - val_precision_4: 0.6851 - val_recall_3: 0.6151\n",
            "Epoch 5/10\n",
            "\u001b[1m8087/8087\u001b[0m \u001b[32m━━━━━━━━━━━━━━━━━━━━\u001b[0m\u001b[37m\u001b[0m \u001b[1m23s\u001b[0m 3ms/step - accuracy: 0.7723 - loss: 0.4515 - precision_4: 0.7091 - recall_3: 0.6481 - val_accuracy: 0.7566 - val_loss: 0.4764 - val_precision_4: 0.6849 - val_recall_3: 0.6320\n",
            "Epoch 6/10\n",
            "\u001b[1m8087/8087\u001b[0m \u001b[32m━━━━━━━━━━━━━━━━━━━━\u001b[0m\u001b[37m\u001b[0m \u001b[1m41s\u001b[0m 3ms/step - accuracy: 0.7804 - loss: 0.4399 - precision_4: 0.7197 - recall_3: 0.6648 - val_accuracy: 0.7579 - val_loss: 0.4774 - val_precision_4: 0.7110 - val_recall_3: 0.5810\n",
            "Epoch 7/10\n",
            "\u001b[1m8087/8087\u001b[0m \u001b[32m━━━━━━━━━━━━━━━━━━━━\u001b[0m\u001b[37m\u001b[0m \u001b[1m23s\u001b[0m 3ms/step - accuracy: 0.7877 - loss: 0.4279 - precision_4: 0.7289 - recall_3: 0.6759 - val_accuracy: 0.7594 - val_loss: 0.4767 - val_precision_4: 0.6936 - val_recall_3: 0.6250\n",
            "Epoch 8/10\n",
            "\u001b[1m8087/8087\u001b[0m \u001b[32m━━━━━━━━━━━━━━━━━━━━\u001b[0m\u001b[37m\u001b[0m \u001b[1m43s\u001b[0m 3ms/step - accuracy: 0.7911 - loss: 0.4203 - precision_4: 0.7328 - recall_3: 0.6841 - val_accuracy: 0.7626 - val_loss: 0.4786 - val_precision_4: 0.6972 - val_recall_3: 0.6319\n",
            "Epoch 9/10\n",
            "\u001b[1m8087/8087\u001b[0m \u001b[32m━━━━━━━━━━━━━━━━━━━━\u001b[0m\u001b[37m\u001b[0m \u001b[1m23s\u001b[0m 3ms/step - accuracy: 0.7987 - loss: 0.4108 - precision_4: 0.7423 - recall_3: 0.6961 - val_accuracy: 0.7560 - val_loss: 0.4818 - val_precision_4: 0.6629 - val_recall_3: 0.6909\n",
            "Epoch 10/10\n",
            "\u001b[1m8087/8087\u001b[0m \u001b[32m━━━━━━━━━━━━━━━━━━━━\u001b[0m\u001b[37m\u001b[0m \u001b[1m40s\u001b[0m 3ms/step - accuracy: 0.8032 - loss: 0.4022 - precision_4: 0.7458 - recall_3: 0.7046 - val_accuracy: 0.7621 - val_loss: 0.4841 - val_precision_4: 0.6814 - val_recall_3: 0.6685\n"
          ]
        }
      ]
    },
    {
      "cell_type": "code",
      "source": [
        "model.summary()"
      ],
      "metadata": {
        "colab": {
          "base_uri": "https://localhost:8080/",
          "height": 255
        },
        "id": "US1Fwsmrgrd6",
        "outputId": "bfbd8242-3210-4080-f5d8-13dca21e4924"
      },
      "execution_count": null,
      "outputs": [
        {
          "output_type": "display_data",
          "data": {
            "text/plain": [
              "\u001b[1mModel: \"feed_forward_classifier_4\"\u001b[0m\n"
            ],
            "text/html": [
              "<pre style=\"white-space:pre;overflow-x:auto;line-height:normal;font-family:Menlo,'DejaVu Sans Mono',consolas,'Courier New',monospace\"><span style=\"font-weight: bold\">Model: \"feed_forward_classifier_4\"</span>\n",
              "</pre>\n"
            ]
          },
          "metadata": {}
        },
        {
          "output_type": "display_data",
          "data": {
            "text/plain": [
              "┏━━━━━━━━━━━━━━━━━━━━━━━━━━━━━━━━━┳━━━━━━━━━━━━━━━━━━━━━━━━┳━━━━━━━━━━━━━━━┓\n",
              "┃\u001b[1m \u001b[0m\u001b[1mLayer (type)                   \u001b[0m\u001b[1m \u001b[0m┃\u001b[1m \u001b[0m\u001b[1mOutput Shape          \u001b[0m\u001b[1m \u001b[0m┃\u001b[1m \u001b[0m\u001b[1m      Param #\u001b[0m\u001b[1m \u001b[0m┃\n",
              "┡━━━━━━━━━━━━━━━━━━━━━━━━━━━━━━━━━╇━━━━━━━━━━━━━━━━━━━━━━━━╇━━━━━━━━━━━━━━━┩\n",
              "│ dense_12 (\u001b[38;5;33mDense\u001b[0m)                │ (\u001b[38;5;45mNone\u001b[0m, \u001b[38;5;34m256\u001b[0m)            │        \u001b[38;5;34m33,024\u001b[0m │\n",
              "├─────────────────────────────────┼────────────────────────┼───────────────┤\n",
              "│ dense_13 (\u001b[38;5;33mDense\u001b[0m)                │ (\u001b[38;5;45mNone\u001b[0m, \u001b[38;5;34m64\u001b[0m)             │        \u001b[38;5;34m16,448\u001b[0m │\n",
              "├─────────────────────────────────┼────────────────────────┼───────────────┤\n",
              "│ dense_14 (\u001b[38;5;33mDense\u001b[0m)                │ (\u001b[38;5;45mNone\u001b[0m, \u001b[38;5;34m1\u001b[0m)              │            \u001b[38;5;34m65\u001b[0m │\n",
              "└─────────────────────────────────┴────────────────────────┴───────────────┘\n"
            ],
            "text/html": [
              "<pre style=\"white-space:pre;overflow-x:auto;line-height:normal;font-family:Menlo,'DejaVu Sans Mono',consolas,'Courier New',monospace\">┏━━━━━━━━━━━━━━━━━━━━━━━━━━━━━━━━━┳━━━━━━━━━━━━━━━━━━━━━━━━┳━━━━━━━━━━━━━━━┓\n",
              "┃<span style=\"font-weight: bold\"> Layer (type)                    </span>┃<span style=\"font-weight: bold\"> Output Shape           </span>┃<span style=\"font-weight: bold\">       Param # </span>┃\n",
              "┡━━━━━━━━━━━━━━━━━━━━━━━━━━━━━━━━━╇━━━━━━━━━━━━━━━━━━━━━━━━╇━━━━━━━━━━━━━━━┩\n",
              "│ dense_12 (<span style=\"color: #0087ff; text-decoration-color: #0087ff\">Dense</span>)                │ (<span style=\"color: #00d7ff; text-decoration-color: #00d7ff\">None</span>, <span style=\"color: #00af00; text-decoration-color: #00af00\">256</span>)            │        <span style=\"color: #00af00; text-decoration-color: #00af00\">33,024</span> │\n",
              "├─────────────────────────────────┼────────────────────────┼───────────────┤\n",
              "│ dense_13 (<span style=\"color: #0087ff; text-decoration-color: #0087ff\">Dense</span>)                │ (<span style=\"color: #00d7ff; text-decoration-color: #00d7ff\">None</span>, <span style=\"color: #00af00; text-decoration-color: #00af00\">64</span>)             │        <span style=\"color: #00af00; text-decoration-color: #00af00\">16,448</span> │\n",
              "├─────────────────────────────────┼────────────────────────┼───────────────┤\n",
              "│ dense_14 (<span style=\"color: #0087ff; text-decoration-color: #0087ff\">Dense</span>)                │ (<span style=\"color: #00d7ff; text-decoration-color: #00d7ff\">None</span>, <span style=\"color: #00af00; text-decoration-color: #00af00\">1</span>)              │            <span style=\"color: #00af00; text-decoration-color: #00af00\">65</span> │\n",
              "└─────────────────────────────────┴────────────────────────┴───────────────┘\n",
              "</pre>\n"
            ]
          },
          "metadata": {}
        },
        {
          "output_type": "display_data",
          "data": {
            "text/plain": [
              "\u001b[1m Total params: \u001b[0m\u001b[38;5;34m148,613\u001b[0m (580.52 KB)\n"
            ],
            "text/html": [
              "<pre style=\"white-space:pre;overflow-x:auto;line-height:normal;font-family:Menlo,'DejaVu Sans Mono',consolas,'Courier New',monospace\"><span style=\"font-weight: bold\"> Total params: </span><span style=\"color: #00af00; text-decoration-color: #00af00\">148,613</span> (580.52 KB)\n",
              "</pre>\n"
            ]
          },
          "metadata": {}
        },
        {
          "output_type": "display_data",
          "data": {
            "text/plain": [
              "\u001b[1m Trainable params: \u001b[0m\u001b[38;5;34m49,537\u001b[0m (193.50 KB)\n"
            ],
            "text/html": [
              "<pre style=\"white-space:pre;overflow-x:auto;line-height:normal;font-family:Menlo,'DejaVu Sans Mono',consolas,'Courier New',monospace\"><span style=\"font-weight: bold\"> Trainable params: </span><span style=\"color: #00af00; text-decoration-color: #00af00\">49,537</span> (193.50 KB)\n",
              "</pre>\n"
            ]
          },
          "metadata": {}
        },
        {
          "output_type": "display_data",
          "data": {
            "text/plain": [
              "\u001b[1m Non-trainable params: \u001b[0m\u001b[38;5;34m0\u001b[0m (0.00 B)\n"
            ],
            "text/html": [
              "<pre style=\"white-space:pre;overflow-x:auto;line-height:normal;font-family:Menlo,'DejaVu Sans Mono',consolas,'Courier New',monospace\"><span style=\"font-weight: bold\"> Non-trainable params: </span><span style=\"color: #00af00; text-decoration-color: #00af00\">0</span> (0.00 B)\n",
              "</pre>\n"
            ]
          },
          "metadata": {}
        },
        {
          "output_type": "display_data",
          "data": {
            "text/plain": [
              "\u001b[1m Optimizer params: \u001b[0m\u001b[38;5;34m99,076\u001b[0m (387.02 KB)\n"
            ],
            "text/html": [
              "<pre style=\"white-space:pre;overflow-x:auto;line-height:normal;font-family:Menlo,'DejaVu Sans Mono',consolas,'Courier New',monospace\"><span style=\"font-weight: bold\"> Optimizer params: </span><span style=\"color: #00af00; text-decoration-color: #00af00\">99,076</span> (387.02 KB)\n",
              "</pre>\n"
            ]
          },
          "metadata": {}
        }
      ]
    },
    {
      "cell_type": "code",
      "source": [
        "import matplotlib.pyplot as plt\n",
        "\n",
        "x = np.arange(1, history.params['epochs'] + 1)\n",
        "for metric, values in history.history.items():\n",
        "  plt.plot(x, values, label=metric)\n",
        "\n",
        "plt.legend()\n",
        "plt.ylabel('Loss')\n",
        "plt.xlabel('Epoch')\n",
        "plt.xticks(x)\n",
        "plt.show()"
      ],
      "metadata": {
        "colab": {
          "base_uri": "https://localhost:8080/",
          "height": 449
        },
        "id": "B-_zSxwnhqqU",
        "outputId": "3730bf95-b0d5-48fd-e185-5a71e7d93745"
      },
      "execution_count": null,
      "outputs": [
        {
          "output_type": "display_data",
          "data": {
            "text/plain": [
              "<Figure size 640x480 with 1 Axes>"
            ],
            "image/png": "[encoded data removed]"
          },
          "metadata": {}
        }
      ]
    },
    {
      "cell_type": "code",
      "source": [
        "ffn_results = model.evaluate(X_avg_concat[X_test_indx], y_test)"
      ],
      "metadata": {
        "colab": {
          "base_uri": "https://localhost:8080/"
        },
        "id": "WkLnogZLlxES",
        "outputId": "30325ae2-2a07-47b4-996f-28248ef16be0"
      },
      "execution_count": null,
      "outputs": [
        {
          "output_type": "stream",
          "name": "stdout",
          "text": [
            "\u001b[1m2528/2528\u001b[0m \u001b[32m━━━━━━━━━━━━━━━━━━━━\u001b[0m\u001b[37m\u001b[0m \u001b[1m6s\u001b[0m 2ms/step - accuracy: 0.7612 - loss: 0.4824 - precision_6: 0.6878 - recall_6: 0.6606\n"
          ]
        }
      ]
    },
    {
      "cell_type": "markdown",
      "metadata": {
        "id": "KyrIrTts6G1d"
      },
      "source": [
        "##Step 4: Approach 2 - Recurrent Neural Network##\n",
        "The next approach is to feed the entire sentence sequentially to an RNN. This RNN will produce a single output vector which represents the context of the entire sentence. These sentences will then be compared using vector similarity techniques."
      ]
    },
    {
      "cell_type": "code",
      "source": [
        "from tensorflow.keras.layers import LSTM, Bidirectional\n",
        "\n",
        "class RecurrentClassifier(Model):\n",
        "  def __init__(self, units):\n",
        "    super().__init__()\n",
        "    self.rnn = Bidirectional(LSTM(units))\n",
        "\n",
        "  @staticmethod\n",
        "  def cosine_similarity(tensor1, tensor2):\n",
        "    dot_product = tf.reduce_sum(tensor1 * tensor2, axis=1)\n",
        "\n",
        "    norm1 = tf.norm(tensor1, axis=1)\n",
        "    norm2 = tf.norm(tensor2, axis=1)\n",
        "\n",
        "    return dot_product / (norm1 * norm2)\n",
        "\n",
        "  def call(self, inputs1, mask1, inputs2, mask2):\n",
        "    \"\"\"\n",
        "    inputs1: (batch_size * max_len * embedding_dim)\n",
        "    mask1: (batch_size * max_len)\n",
        "    inputs2: (batch_size * max_len * embedding_dim)\n",
        "    mask2: (batch_size * max_len)\n",
        "    \"\"\"\n",
        "    out1 = self.rnn(inputs1, mask=mask1)\n",
        "    out2 = self.rnn(inputs2, mask=mask2)\n",
        "\n",
        "    cosine_sim = self.cosine_similarity(out1, out2)\n",
        "\n",
        "    return tf.map_fn(lambda x: tf.cast(x > 0, tf.float32), cosine_sim)\n",
        "\n",
        "  def train_step(self, data):\n",
        "    x, y = data\n",
        "\n",
        "    with tf.GradientTape() as tape:\n",
        "      y_pred = self(*x)  # Forward pass\n",
        "      # Compute the loss value\n",
        "      # (the loss function is configured in `compile()`)\n",
        "      loss = self.compute_loss(y=y, y_pred=y_pred)\n",
        "\n",
        "    # Compute gradients\n",
        "    trainable_vars = self.trainable_variables\n",
        "    gradients = tape.gradient(loss, trainable_vars)\n",
        "    # Update weights\n",
        "    self.optimizer.apply_gradients(zip(gradients, trainable_vars))\n",
        "    # Update metrics (includes the metric that tracks the loss)\n",
        "    for metric in self.metrics:\n",
        "      if metric.name == \"loss\":\n",
        "        metric.update_state(loss)\n",
        "      else:\n",
        "        metric.update_state(y, y_pred)\n",
        "    # Return a dict mapping metric names to current value\n",
        "    return {m.name: m.result() for m in self.metrics}\n",
        "\n",
        "  def test_step(self, data):\n",
        "    x, y = data\n",
        "\n",
        "    y_pred = self(*x)\n",
        "    # Updates the metrics tracking the loss\n",
        "    loss = self.compute_loss(y=y, y_pred=y_pred)\n",
        "    # Update the metrics.\n",
        "    for metric in self.metrics:\n",
        "      if metric.name != \"loss\":\n",
        "        metric.update_state(y, y_pred)\n",
        "      else:\n",
        "        metric.update_state(loss)\n",
        "    # Return a dict mapping metric names to current value.\n",
        "    # Note that it will include the loss (tracked in self.metrics).\n",
        "    return {m.name: m.result() for m in self.metrics}\n",
        "\n",
        "#additions: could add attention"
      ],
      "metadata": {
        "id": "2aQQZdFEkgUJ"
      },
      "execution_count": null,
      "outputs": []
    },
    {
      "cell_type": "code",
      "source": [
        "def pad_batch(batch: list[list[list[float]]], sentence_lens: list[int], pad_val: list[float]):\n",
        "    \"\"\" Pad the batch for src sentences.\n",
        "        Note: Do not use append/extend that can modify the input inplace.\n",
        "\n",
        "    Args:\n",
        "        src_batch: A list of src token ids\n",
        "        src_seq_lens: A list of src lens\n",
        "        pad_val: The padding value\n",
        "\n",
        "    Returns:\n",
        "        src_batch: Tensor, (batch_size x max_len * embedding dim)\n",
        "        src_seq_lens_batch: Tensor, (batch_size, )\n",
        "    \"\"\"\n",
        "    max_src_len = max(sentence_lens)\n",
        "    # Start your code here\n",
        "    # Please refer to tf.convert_to_tensor. The dtype should be tf.int64\n",
        "    # Padding\n",
        "    batch_out = [sample+[pad_val]*(max_src_len-length) for sample, length in zip(batch, sentence_lens)]\n",
        "    # Convert to tensor\n",
        "\n",
        "    batch_out = tf.convert_to_tensor(batch_out)\n",
        "    lens_out = tf.convert_to_tensor(sentence_lens)\n",
        "    # End\n",
        "    return batch_out, lens_out"
      ],
      "metadata": {
        "id": "vFHbvNc4qZ_-"
      },
      "execution_count": null,
      "outputs": []
    },
    {
      "cell_type": "markdown",
      "source": [
        "Using the whole dataset was taking up too much RAM so we will cut it off a little bit. (50k out of ~400k)"
      ],
      "metadata": {
        "id": "M5P05YZXjfgz"
      }
    },
    {
      "cell_type": "code",
      "source": [
        "pad_val = embeddings[tokenizer.word_index[\"<pad>\"]]\n",
        "\n",
        "X1_pad, X1_lens = pad_batch(X1_embeddings[:50000], [len(sentence) for sentence in X1_embeddings][:50000], pad_val)\n",
        "X2_pad, X2_lens = pad_batch(X2_embeddings[:50000], [len(sentence) for sentence in X2_embeddings][:50000], pad_val)\n",
        "\n",
        "#build masks\n",
        "\n",
        "X1_mask = tf.sequence_mask(X1_lens, dtype=tf.float32)\n",
        "X2_mask = tf.sequence_mask(X2_lens, dtype=tf.float32)"
      ],
      "metadata": {
        "id": "5yvNWpT1yAwX"
      },
      "execution_count": null,
      "outputs": []
    },
    {
      "cell_type": "markdown",
      "source": [
        "Gotta reindex the train and test set once again because of the cutoff."
      ],
      "metadata": {
        "id": "ljl5AQipuTxX"
      }
    },
    {
      "cell_type": "code",
      "source": [
        "from sklearn.model_selection import train_test_split\n",
        "\n",
        "X_train_indx, X_test_indx, y_train, y_test = train_test_split(np.arange(50000), y[:50000], test_size=0.2, random_state=1234) #split both input sets the same way"
      ],
      "metadata": {
        "id": "8f7V5QTCjZBF"
      },
      "execution_count": null,
      "outputs": []
    },
    {
      "cell_type": "code",
      "source": [
        "X1_pad_train = tf.gather(X1_pad, X_train_indx)\n",
        "X1_mask_train = tf.gather(X1_mask, X_train_indx)\n",
        "X2_pad_train = tf.gather(X2_pad, X_train_indx)\n",
        "X2_mask_train = tf.gather(X2_mask, X_train_indx)"
      ],
      "metadata": {
        "id": "FzzXL-XLginO"
      },
      "execution_count": null,
      "outputs": []
    },
    {
      "cell_type": "code",
      "source": [
        "X1_pad_test = tf.gather(X1_pad, X_test_indx)\n",
        "X1_mask_test = tf.gather(X1_mask, X_test_indx)\n",
        "X2_pad_test = tf.gather(X2_pad, X_test_indx)\n",
        "X2_mask_test = tf.gather(X2_mask, X_test_indx)"
      ],
      "metadata": {
        "id": "Nv1QmUBknSsf"
      },
      "execution_count": null,
      "outputs": []
    },
    {
      "cell_type": "markdown",
      "source": [
        "Clear the padded and mask sets from the RAM. We don't need it anymore bc we split it into test and train set, and we will use those separately."
      ],
      "metadata": {
        "id": "8mVRPr0Tu4Vn"
      }
    },
    {
      "cell_type": "code",
      "source": [
        "import gc\n",
        "del X1_pad\n",
        "del X1_mask\n",
        "del X2_pad\n",
        "del X2_mask\n",
        "\n",
        "gc.collect()"
      ],
      "metadata": {
        "colab": {
          "base_uri": "https://localhost:8080/"
        },
        "id": "PRbde4T1uyWc",
        "outputId": "5f42f2ad-a2a6-447f-fafc-e6fc18551d5d"
      },
      "execution_count": null,
      "outputs": [
        {
          "output_type": "execute_result",
          "data": {
            "text/plain": [
              "0"
            ]
          },
          "metadata": {},
          "execution_count": 17
        }
      ]
    },
    {
      "cell_type": "code",
      "source": [
        "from tensorflow.keras.metrics import Precision, Recall"
      ],
      "metadata": {
        "id": "WuYwPPNmV0yj"
      },
      "execution_count": null,
      "outputs": []
    },
    {
      "cell_type": "code",
      "source": [
        "context_dim = 16\n",
        "\n",
        "model = RecurrentClassifier(context_dim)\n",
        "model.compile(optimizer='adam', loss='BinaryCrossentropy', metrics=['accuracy', Precision(), Recall()])\n",
        "\n",
        "# Train the model\n",
        "inputs = (X1_pad_train, X1_mask_train, X2_pad_train, X2_mask_train)\n",
        "history = model.fit(inputs, y_train, epochs=10, batch_size=32, validation_split=.2)"
      ],
      "metadata": {
        "colab": {
          "base_uri": "https://localhost:8080/"
        },
        "id": "dXNc0GlCSMKi",
        "outputId": "9fba147e-257a-4d35-b12d-f543f5a05d89"
      },
      "execution_count": null,
      "outputs": [
        {
          "output_type": "stream",
          "name": "stdout",
          "text": [
            "Epoch 1/10\n",
            "\u001b[1m1000/1000\u001b[0m \u001b[32m━━━━━━━━━━━━━━━━━━━━\u001b[0m\u001b[37m\u001b[0m \u001b[1m206s\u001b[0m 199ms/step - accuracy: 0.6192 - precision: 0.3828 - recall: 0.9970 - loss: 9.6532 - val_loss: 9.7331\n",
            "Epoch 2/10\n",
            "\u001b[1m1000/1000\u001b[0m \u001b[32m━━━━━━━━━━━━━━━━━━━━\u001b[0m\u001b[37m\u001b[0m \u001b[1m203s\u001b[0m 203ms/step - accuracy: 0.6203 - precision: 0.3782 - recall: 0.9979 - loss: 9.7305 - val_loss: 9.7331\n",
            "Epoch 3/10\n",
            "\u001b[1m1000/1000\u001b[0m \u001b[32m━━━━━━━━━━━━━━━━━━━━\u001b[0m\u001b[37m\u001b[0m \u001b[1m261s\u001b[0m 202ms/step - accuracy: 0.6193 - precision: 0.3805 - recall: 0.9978 - loss: 9.6914 - val_loss: 9.7331\n",
            "Epoch 4/10\n",
            "\u001b[1m1000/1000\u001b[0m \u001b[32m━━━━━━━━━━━━━━━━━━━━\u001b[0m\u001b[37m\u001b[0m \u001b[1m261s\u001b[0m 202ms/step - accuracy: 0.6159 - precision: 0.3844 - recall: 0.9976 - loss: 9.6291 - val_loss: 9.7331\n",
            "Epoch 5/10\n",
            "\u001b[1m1000/1000\u001b[0m \u001b[32m━━━━━━━━━━━━━━━━━━━━\u001b[0m\u001b[37m\u001b[0m \u001b[1m203s\u001b[0m 203ms/step - accuracy: 0.6226 - precision: 0.3818 - recall: 0.9979 - loss: 9.6512 - val_loss: 9.7331\n",
            "Epoch 6/10\n",
            "\u001b[1m1000/1000\u001b[0m \u001b[32m━━━━━━━━━━━━━━━━━━━━\u001b[0m\u001b[37m\u001b[0m \u001b[1m261s\u001b[0m 203ms/step - accuracy: 0.6193 - precision: 0.3840 - recall: 0.9968 - loss: 9.6351 - val_loss: 9.7331\n",
            "Epoch 7/10\n",
            "\u001b[1m1000/1000\u001b[0m \u001b[32m━━━━━━━━━━━━━━━━━━━━\u001b[0m\u001b[37m\u001b[0m \u001b[1m256s\u001b[0m 197ms/step - accuracy: 0.6247 - precision: 0.3770 - recall: 0.9975 - loss: 9.7621 - val_loss: 9.7331\n",
            "Epoch 8/10\n",
            "\u001b[1m1000/1000\u001b[0m \u001b[32m━━━━━━━━━━━━━━━━━━━━\u001b[0m\u001b[37m\u001b[0m \u001b[1m208s\u001b[0m 202ms/step - accuracy: 0.6188 - precision: 0.3838 - recall: 0.9969 - loss: 9.6443 - val_loss: 9.7331\n",
            "Epoch 9/10\n",
            "\u001b[1m1000/1000\u001b[0m \u001b[32m━━━━━━━━━━━━━━━━━━━━\u001b[0m\u001b[37m\u001b[0m \u001b[1m262s\u001b[0m 203ms/step - accuracy: 0.6139 - precision: 0.3858 - recall: 0.9974 - loss: 9.6121 - val_loss: 9.7331\n",
            "Epoch 10/10\n",
            "\u001b[1m1000/1000\u001b[0m \u001b[32m━━━━━━━━━━━━━━━━━━━━\u001b[0m\u001b[37m\u001b[0m \u001b[1m262s\u001b[0m 203ms/step - accuracy: 0.6177 - precision: 0.3805 - recall: 0.9975 - loss: 9.6830 - val_loss: 9.7331\n"
          ]
        },
        {
          "output_type": "execute_result",
          "data": {
            "text/plain": [
              "<keras.src.callbacks.history.History at 0x7c9f472b1210>"
            ]
          },
          "metadata": {},
          "execution_count": 19
        }
      ]
    },
    {
      "cell_type": "code",
      "source": [
        "model.summary()"
      ],
      "metadata": {
        "colab": {
          "base_uri": "https://localhost:8080/",
          "height": 187
        },
        "id": "y5d2S8v56ndg",
        "outputId": "3432bf8b-2400-4365-cb8e-4481edbde818"
      },
      "execution_count": null,
      "outputs": [
        {
          "output_type": "display_data",
          "data": {
            "text/plain": [
              "\u001b[1mModel: \"recurrent_classifier\"\u001b[0m\n"
            ],
            "text/html": [
              "<pre style=\"white-space:pre;overflow-x:auto;line-height:normal;font-family:Menlo,'DejaVu Sans Mono',consolas,'Courier New',monospace\"><span style=\"font-weight: bold\">Model: \"recurrent_classifier\"</span>\n",
              "</pre>\n"
            ]
          },
          "metadata": {}
        },
        {
          "output_type": "display_data",
          "data": {
            "text/plain": [
              "┏━━━━━━━━━━━━━━━━━━━━━━━━━━━━━━━━━┳━━━━━━━━━━━━━━━━━━━━━━━━┳━━━━━━━━━━━━━━━┓\n",
              "┃\u001b[1m \u001b[0m\u001b[1mLayer (type)                   \u001b[0m\u001b[1m \u001b[0m┃\u001b[1m \u001b[0m\u001b[1mOutput Shape          \u001b[0m\u001b[1m \u001b[0m┃\u001b[1m \u001b[0m\u001b[1m      Param #\u001b[0m\u001b[1m \u001b[0m┃\n",
              "┡━━━━━━━━━━━━━━━━━━━━━━━━━━━━━━━━━╇━━━━━━━━━━━━━━━━━━━━━━━━╇━━━━━━━━━━━━━━━┩\n",
              "│ bidirectional (\u001b[38;5;33mBidirectional\u001b[0m)   │ (\u001b[38;5;34m32\u001b[0m, \u001b[38;5;34m32\u001b[0m)               │        \u001b[38;5;34m10,368\u001b[0m │\n",
              "└─────────────────────────────────┴────────────────────────┴───────────────┘\n"
            ],
            "text/html": [
              "<pre style=\"white-space:pre;overflow-x:auto;line-height:normal;font-family:Menlo,'DejaVu Sans Mono',consolas,'Courier New',monospace\">┏━━━━━━━━━━━━━━━━━━━━━━━━━━━━━━━━━┳━━━━━━━━━━━━━━━━━━━━━━━━┳━━━━━━━━━━━━━━━┓\n",
              "┃<span style=\"font-weight: bold\"> Layer (type)                    </span>┃<span style=\"font-weight: bold\"> Output Shape           </span>┃<span style=\"font-weight: bold\">       Param # </span>┃\n",
              "┡━━━━━━━━━━━━━━━━━━━━━━━━━━━━━━━━━╇━━━━━━━━━━━━━━━━━━━━━━━━╇━━━━━━━━━━━━━━━┩\n",
              "│ bidirectional (<span style=\"color: #0087ff; text-decoration-color: #0087ff\">Bidirectional</span>)   │ (<span style=\"color: #00af00; text-decoration-color: #00af00\">32</span>, <span style=\"color: #00af00; text-decoration-color: #00af00\">32</span>)               │        <span style=\"color: #00af00; text-decoration-color: #00af00\">10,368</span> │\n",
              "└─────────────────────────────────┴────────────────────────┴───────────────┘\n",
              "</pre>\n"
            ]
          },
          "metadata": {}
        },
        {
          "output_type": "display_data",
          "data": {
            "text/plain": [
              "\u001b[1m Total params: \u001b[0m\u001b[38;5;34m31,106\u001b[0m (121.51 KB)\n"
            ],
            "text/html": [
              "<pre style=\"white-space:pre;overflow-x:auto;line-height:normal;font-family:Menlo,'DejaVu Sans Mono',consolas,'Courier New',monospace\"><span style=\"font-weight: bold\"> Total params: </span><span style=\"color: #00af00; text-decoration-color: #00af00\">31,106</span> (121.51 KB)\n",
              "</pre>\n"
            ]
          },
          "metadata": {}
        },
        {
          "output_type": "display_data",
          "data": {
            "text/plain": [
              "\u001b[1m Trainable params: \u001b[0m\u001b[38;5;34m10,368\u001b[0m (40.50 KB)\n"
            ],
            "text/html": [
              "<pre style=\"white-space:pre;overflow-x:auto;line-height:normal;font-family:Menlo,'DejaVu Sans Mono',consolas,'Courier New',monospace\"><span style=\"font-weight: bold\"> Trainable params: </span><span style=\"color: #00af00; text-decoration-color: #00af00\">10,368</span> (40.50 KB)\n",
              "</pre>\n"
            ]
          },
          "metadata": {}
        },
        {
          "output_type": "display_data",
          "data": {
            "text/plain": [
              "\u001b[1m Non-trainable params: \u001b[0m\u001b[38;5;34m0\u001b[0m (0.00 B)\n"
            ],
            "text/html": [
              "<pre style=\"white-space:pre;overflow-x:auto;line-height:normal;font-family:Menlo,'DejaVu Sans Mono',consolas,'Courier New',monospace\"><span style=\"font-weight: bold\"> Non-trainable params: </span><span style=\"color: #00af00; text-decoration-color: #00af00\">0</span> (0.00 B)\n",
              "</pre>\n"
            ]
          },
          "metadata": {}
        },
        {
          "output_type": "display_data",
          "data": {
            "text/plain": [
              "\u001b[1m Optimizer params: \u001b[0m\u001b[38;5;34m20,738\u001b[0m (81.01 KB)\n"
            ],
            "text/html": [
              "<pre style=\"white-space:pre;overflow-x:auto;line-height:normal;font-family:Menlo,'DejaVu Sans Mono',consolas,'Courier New',monospace\"><span style=\"font-weight: bold\"> Optimizer params: </span><span style=\"color: #00af00; text-decoration-color: #00af00\">20,738</span> (81.01 KB)\n",
              "</pre>\n"
            ]
          },
          "metadata": {}
        }
      ]
    },
    {
      "cell_type": "code",
      "source": [
        "import matplotlib.pyplot as plt\n",
        "\n",
        "x = np.arange(1, history.params['epochs'] + 1)\n",
        "for metric, values in history.history.items():\n",
        "  if metric == \"loss\":\n",
        "    plt.plot(x, values, label=metric)\n",
        "\n",
        "plt.legend()\n",
        "plt.ylabel('Loss')\n",
        "plt.xlabel('Epoch')\n",
        "plt.xticks(x)\n",
        "plt.show()"
      ],
      "metadata": {
        "colab": {
          "base_uri": "https://localhost:8080/",
          "height": 465
        },
        "id": "ZpTR-1F0lSAv",
        "outputId": "a3c6f48c-c38e-4cb8-c4a6-24c1a0025591"
      },
      "execution_count": null,
      "outputs": [
        {
          "output_type": "display_data",
          "data": {
            "text/plain": [
              "<Figure size 640x480 with 1 Axes>"
            ],
            "image/png": "[encoded data removed]"
          },
          "metadata": {}
        }
      ]
    },
    {
      "cell_type": "code",
      "source": [
        "import matplotlib.pyplot as plt\n",
        "\n",
        "x = np.arange(1, history.params['epochs'] + 1)\n",
        "for metric, values in history.history.items():\n",
        "  if \"loss\" not in metric:\n",
        "    plt.plot(x, values, label=metric)\n",
        "\n",
        "plt.legend()\n",
        "plt.ylabel('Value')\n",
        "plt.xlabel('Epoch')\n",
        "plt.xticks(x)\n",
        "plt.show()"
      ],
      "metadata": {
        "colab": {
          "base_uri": "https://localhost:8080/",
          "height": 449
        },
        "id": "12CocjXOl1GG",
        "outputId": "5964d13f-2daa-4fee-cc7f-cca35be3136c"
      },
      "execution_count": null,
      "outputs": [
        {
          "output_type": "display_data",
          "data": {
            "text/plain": [
              "<Figure size 640x480 with 1 Axes>"
            ],
            "image/png": "[encoded data removed]"
          },
          "metadata": {}
        }
      ]
    },
    {
      "cell_type": "code",
      "source": [
        "test_inputs = (X1_pad_test, X1_mask_test, X2_pad_test, X2_mask_test)\n",
        "rnn_results = model.evaluate(test_inputs, y_test)\n",
        "rnn_results = [rnn_results[0], rnn_results[1][\"accuracy\"], rnn_results[1][\"precision\"], rnn_results[1][\"recall\"]]"
      ],
      "metadata": {
        "colab": {
          "base_uri": "https://localhost:8080/"
        },
        "id": "mkCyldFe6qTI",
        "outputId": "bb241714-750c-4985-d9d4-de5bffbae710"
      },
      "execution_count": null,
      "outputs": [
        {
          "output_type": "stream",
          "name": "stdout",
          "text": [
            "\u001b[1m313/313\u001b[0m \u001b[32m━━━━━━━━━━━━━━━━━━━━\u001b[0m\u001b[37m\u001b[0m \u001b[1m22s\u001b[0m 65ms/step - accuracy: 0.6238 - precision: 0.3813 - recall: 0.9970 - loss: 9.6936\n"
          ]
        }
      ]
    },
    {
      "cell_type": "markdown",
      "source": [
        "##Step 5: Final Approach - Encoder Decoder Model##\n",
        "The final approach that I came up with is to combine both of the strategies used above. We will first feed the sentences to an encoder RNN, which will output a context state. We concatenate the context of sentence 1 and 2. Then we will feed the total context state to a feed forward network which will act as a decoder, classifying the sentences as similar or not."
      ],
      "metadata": {
        "id": "frdDYHCvlgVW"
      }
    },
    {
      "cell_type": "code",
      "source": [
        "class EncoderDecoderClassifier(Model):\n",
        "  def __init__(self, units, layer1, layer2):\n",
        "    super().__init__()\n",
        "    self.rnn = Bidirectional(LSTM(units))\n",
        "    self.ffn = FeedForwardClassifier(layer1, layer2)\n",
        "\n",
        "  def call(self, sentence1, mask1, sentence2, mask2):\n",
        "    \"\"\"\n",
        "    sentence1: (batch_size * max_len * embedding_dim)\n",
        "    mask1: (batch_size * max_len)\n",
        "    sentence2: (batch_size * max_len * embedding_dim)\n",
        "    mask2: (batch_size * max_len)\n",
        "    \"\"\"\n",
        "    context1 = self.rnn(sentence1, mask=mask1) # (batch_size * 2units)\n",
        "    context2 = self.rnn(sentence2, mask=mask2) # (batch_size * 2units)\n",
        "\n",
        "    #print(\"c1\", context1.shape)\n",
        "    #print(\"c2\", context2.shape)\n",
        "\n",
        "    concat_context = tf.concat([context1, context2], axis=-1) #(batch_size * 4units)\n",
        "    #print(\"c\", concat_context.shape)\n",
        "\n",
        "    return self.ffn(concat_context)\n",
        "\n",
        "  def train_step(self, data):\n",
        "    x, y = data\n",
        "\n",
        "    with tf.GradientTape() as tape:\n",
        "      y_pred = self(*x)  # Forward pass\n",
        "      # Compute the loss value\n",
        "      # (the loss function is configured in `compile()`)\n",
        "      loss = self.compute_loss(y=y, y_pred=y_pred)\n",
        "\n",
        "    # Compute gradients\n",
        "    trainable_vars = self.trainable_variables\n",
        "    gradients = tape.gradient(loss, trainable_vars)\n",
        "    # Update weights\n",
        "    self.optimizer.apply_gradients(zip(gradients, trainable_vars))\n",
        "    # Update metrics (includes the metric that tracks the loss)\n",
        "    for metric in self.metrics:\n",
        "      if metric.name == \"loss\":\n",
        "        metric.update_state(loss)\n",
        "      else:\n",
        "        metric.update_state(y, y_pred)\n",
        "    # Return a dict mapping metric names to current value\n",
        "    return {m.name: m.result() for m in self.metrics}\n",
        "\n",
        "  def test_step(self, data):\n",
        "    x, y = data\n",
        "\n",
        "    y_pred = self(*x)\n",
        "    # Updates the metrics tracking the loss\n",
        "    loss = self.compute_loss(y=y, y_pred=y_pred)\n",
        "    # Update the metrics.\n",
        "    for metric in self.metrics:\n",
        "      if metric.name != \"loss\":\n",
        "        metric.update_state(y, y_pred)\n",
        "      else:\n",
        "        metric.update_state(loss)\n",
        "    # Return a dict mapping metric names to current value.\n",
        "    # Note that it will include the loss (tracked in self.metrics).\n",
        "    return {m.name: m.result() for m in self.metrics}"
      ],
      "metadata": {
        "id": "GxrvHec5J6Wn"
      },
      "execution_count": null,
      "outputs": []
    },
    {
      "cell_type": "code",
      "source": [
        "layer1 = 256\n",
        "layer2 = 64\n",
        "context_dim = 64\n",
        "\n",
        "model = EncoderDecoderClassifier(context_dim, layer1, layer2)\n",
        "model.compile(optimizer='adam', loss='BinaryCrossentropy', metrics=['accuracy', Precision(name=\"enc_dec_precision\"), Recall(name=\"enc_dec_recall\")])\n",
        "\n",
        "# Train the model\n",
        "inputs = (X1_pad_train, X1_mask_train, X2_pad_train, X2_mask_train)\n",
        "history = model.fit(inputs, y_train, epochs=10, batch_size=32, validation_split=.2)"
      ],
      "metadata": {
        "colab": {
          "base_uri": "https://localhost:8080/"
        },
        "id": "5mr768WPco35",
        "outputId": "761a11d4-081e-4afe-a378-05247d6054b4"
      },
      "execution_count": null,
      "outputs": [
        {
          "output_type": "stream",
          "name": "stdout",
          "text": [
            "Epoch 1/10\n",
            "\u001b[1m1000/1000\u001b[0m \u001b[32m━━━━━━━━━━━━━━━━━━━━\u001b[0m\u001b[37m\u001b[0m \u001b[1m326s\u001b[0m 319ms/step - accuracy: 0.6586 - enc_dec_precision: 0.5646 - enc_dec_recall: 0.2770 - loss: 0.6158 - val_loss: 0.5613\n",
            "Epoch 2/10\n",
            "\u001b[1m1000/1000\u001b[0m \u001b[32m━━━━━━━━━━━━━━━━━━━━\u001b[0m\u001b[37m\u001b[0m \u001b[1m335s\u001b[0m 335ms/step - accuracy: 0.7198 - enc_dec_precision: 0.6460 - enc_dec_recall: 0.5440 - loss: 0.5402 - val_loss: 0.5379\n",
            "Epoch 3/10\n",
            "\u001b[1m1000/1000\u001b[0m \u001b[32m━━━━━━━━━━━━━━━━━━━━\u001b[0m\u001b[37m\u001b[0m \u001b[1m334s\u001b[0m 334ms/step - accuracy: 0.7424 - enc_dec_precision: 0.6668 - enc_dec_recall: 0.6057 - loss: 0.5012 - val_loss: 0.5205\n",
            "Epoch 4/10\n",
            "\u001b[1m1000/1000\u001b[0m \u001b[32m━━━━━━━━━━━━━━━━━━━━\u001b[0m\u001b[37m\u001b[0m \u001b[1m334s\u001b[0m 334ms/step - accuracy: 0.7643 - enc_dec_precision: 0.7010 - enc_dec_recall: 0.6539 - loss: 0.4685 - val_loss: 0.5232\n",
            "Epoch 5/10\n",
            "\u001b[1m1000/1000\u001b[0m \u001b[32m━━━━━━━━━━━━━━━━━━━━\u001b[0m\u001b[37m\u001b[0m \u001b[1m382s\u001b[0m 334ms/step - accuracy: 0.7869 - enc_dec_precision: 0.7164 - enc_dec_recall: 0.7087 - loss: 0.4338 - val_loss: 0.5266\n",
            "Epoch 6/10\n",
            "\u001b[1m1000/1000\u001b[0m \u001b[32m━━━━━━━━━━━━━━━━━━━━\u001b[0m\u001b[37m\u001b[0m \u001b[1m382s\u001b[0m 334ms/step - accuracy: 0.8108 - enc_dec_precision: 0.7469 - enc_dec_recall: 0.7480 - loss: 0.3935 - val_loss: 0.5586\n",
            "Epoch 7/10\n",
            "\u001b[1m1000/1000\u001b[0m \u001b[32m━━━━━━━━━━━━━━━━━━━━\u001b[0m\u001b[37m\u001b[0m \u001b[1m383s\u001b[0m 335ms/step - accuracy: 0.8337 - enc_dec_precision: 0.7690 - enc_dec_recall: 0.7874 - loss: 0.3538 - val_loss: 0.5711\n",
            "Epoch 8/10\n",
            "\u001b[1m1000/1000\u001b[0m \u001b[32m━━━━━━━━━━━━━━━━━━━━\u001b[0m\u001b[37m\u001b[0m \u001b[1m363s\u001b[0m 317ms/step - accuracy: 0.8567 - enc_dec_precision: 0.7971 - enc_dec_recall: 0.8299 - loss: 0.3135 - val_loss: 0.5864\n",
            "Epoch 9/10\n",
            "\u001b[1m1000/1000\u001b[0m \u001b[32m━━━━━━━━━━━━━━━━━━━━\u001b[0m\u001b[37m\u001b[0m \u001b[1m338s\u001b[0m 333ms/step - accuracy: 0.8748 - enc_dec_precision: 0.8208 - enc_dec_recall: 0.8509 - loss: 0.2756 - val_loss: 0.6546\n",
            "Epoch 10/10\n",
            "\u001b[1m1000/1000\u001b[0m \u001b[32m━━━━━━━━━━━━━━━━━━━━\u001b[0m\u001b[37m\u001b[0m \u001b[1m383s\u001b[0m 334ms/step - accuracy: 0.8966 - enc_dec_precision: 0.8451 - enc_dec_recall: 0.8874 - loss: 0.2324 - val_loss: 0.6918\n"
          ]
        }
      ]
    },
    {
      "cell_type": "code",
      "source": [
        "model.summary()"
      ],
      "metadata": {
        "colab": {
          "base_uri": "https://localhost:8080/",
          "height": 238
        },
        "id": "UugXzRIqm1sY",
        "outputId": "563c529d-3c4d-46a1-9f91-f26c5b1c46e1"
      },
      "execution_count": null,
      "outputs": [
        {
          "output_type": "display_data",
          "data": {
            "text/plain": [
              "\u001b[1mModel: \"encoder_decoder_classifier_2\"\u001b[0m\n"
            ],
            "text/html": [
              "<pre style=\"white-space:pre;overflow-x:auto;line-height:normal;font-family:Menlo,'DejaVu Sans Mono',consolas,'Courier New',monospace\"><span style=\"font-weight: bold\">Model: \"encoder_decoder_classifier_2\"</span>\n",
              "</pre>\n"
            ]
          },
          "metadata": {}
        },
        {
          "output_type": "display_data",
          "data": {
            "text/plain": [
              "┏━━━━━━━━━━━━━━━━━━━━━━━━━━━━━━━━━┳━━━━━━━━━━━━━━━━━━━━━━━━┳━━━━━━━━━━━━━━━┓\n",
              "┃\u001b[1m \u001b[0m\u001b[1mLayer (type)                   \u001b[0m\u001b[1m \u001b[0m┃\u001b[1m \u001b[0m\u001b[1mOutput Shape          \u001b[0m\u001b[1m \u001b[0m┃\u001b[1m \u001b[0m\u001b[1m      Param #\u001b[0m\u001b[1m \u001b[0m┃\n",
              "┡━━━━━━━━━━━━━━━━━━━━━━━━━━━━━━━━━╇━━━━━━━━━━━━━━━━━━━━━━━━╇━━━━━━━━━━━━━━━┩\n",
              "│ bidirectional_4 (\u001b[38;5;33mBidirectional\u001b[0m) │ (\u001b[38;5;34m32\u001b[0m, \u001b[38;5;34m128\u001b[0m)              │        \u001b[38;5;34m66,048\u001b[0m │\n",
              "├─────────────────────────────────┼────────────────────────┼───────────────┤\n",
              "│ feed_forward_classifier_2       │ ?                      │        \u001b[38;5;34m82,305\u001b[0m │\n",
              "│ (\u001b[38;5;33mFeedForwardClassifier\u001b[0m)         │                        │               │\n",
              "└─────────────────────────────────┴────────────────────────┴───────────────┘\n"
            ],
            "text/html": [
              "<pre style=\"white-space:pre;overflow-x:auto;line-height:normal;font-family:Menlo,'DejaVu Sans Mono',consolas,'Courier New',monospace\">┏━━━━━━━━━━━━━━━━━━━━━━━━━━━━━━━━━┳━━━━━━━━━━━━━━━━━━━━━━━━┳━━━━━━━━━━━━━━━┓\n",
              "┃<span style=\"font-weight: bold\"> Layer (type)                    </span>┃<span style=\"font-weight: bold\"> Output Shape           </span>┃<span style=\"font-weight: bold\">       Param # </span>┃\n",
              "┡━━━━━━━━━━━━━━━━━━━━━━━━━━━━━━━━━╇━━━━━━━━━━━━━━━━━━━━━━━━╇━━━━━━━━━━━━━━━┩\n",
              "│ bidirectional_4 (<span style=\"color: #0087ff; text-decoration-color: #0087ff\">Bidirectional</span>) │ (<span style=\"color: #00af00; text-decoration-color: #00af00\">32</span>, <span style=\"color: #00af00; text-decoration-color: #00af00\">128</span>)              │        <span style=\"color: #00af00; text-decoration-color: #00af00\">66,048</span> │\n",
              "├─────────────────────────────────┼────────────────────────┼───────────────┤\n",
              "│ feed_forward_classifier_2       │ ?                      │        <span style=\"color: #00af00; text-decoration-color: #00af00\">82,305</span> │\n",
              "│ (<span style=\"color: #0087ff; text-decoration-color: #0087ff\">FeedForwardClassifier</span>)         │                        │               │\n",
              "└─────────────────────────────────┴────────────────────────┴───────────────┘\n",
              "</pre>\n"
            ]
          },
          "metadata": {}
        },
        {
          "output_type": "display_data",
          "data": {
            "text/plain": [
              "\u001b[1m Total params: \u001b[0m\u001b[38;5;34m445,061\u001b[0m (1.70 MB)\n"
            ],
            "text/html": [
              "<pre style=\"white-space:pre;overflow-x:auto;line-height:normal;font-family:Menlo,'DejaVu Sans Mono',consolas,'Courier New',monospace\"><span style=\"font-weight: bold\"> Total params: </span><span style=\"color: #00af00; text-decoration-color: #00af00\">445,061</span> (1.70 MB)\n",
              "</pre>\n"
            ]
          },
          "metadata": {}
        },
        {
          "output_type": "display_data",
          "data": {
            "text/plain": [
              "\u001b[1m Trainable params: \u001b[0m\u001b[38;5;34m148,353\u001b[0m (579.50 KB)\n"
            ],
            "text/html": [
              "<pre style=\"white-space:pre;overflow-x:auto;line-height:normal;font-family:Menlo,'DejaVu Sans Mono',consolas,'Courier New',monospace\"><span style=\"font-weight: bold\"> Trainable params: </span><span style=\"color: #00af00; text-decoration-color: #00af00\">148,353</span> (579.50 KB)\n",
              "</pre>\n"
            ]
          },
          "metadata": {}
        },
        {
          "output_type": "display_data",
          "data": {
            "text/plain": [
              "\u001b[1m Non-trainable params: \u001b[0m\u001b[38;5;34m0\u001b[0m (0.00 B)\n"
            ],
            "text/html": [
              "<pre style=\"white-space:pre;overflow-x:auto;line-height:normal;font-family:Menlo,'DejaVu Sans Mono',consolas,'Courier New',monospace\"><span style=\"font-weight: bold\"> Non-trainable params: </span><span style=\"color: #00af00; text-decoration-color: #00af00\">0</span> (0.00 B)\n",
              "</pre>\n"
            ]
          },
          "metadata": {}
        },
        {
          "output_type": "display_data",
          "data": {
            "text/plain": [
              "\u001b[1m Optimizer params: \u001b[0m\u001b[38;5;34m296,708\u001b[0m (1.13 MB)\n"
            ],
            "text/html": [
              "<pre style=\"white-space:pre;overflow-x:auto;line-height:normal;font-family:Menlo,'DejaVu Sans Mono',consolas,'Courier New',monospace\"><span style=\"font-weight: bold\"> Optimizer params: </span><span style=\"color: #00af00; text-decoration-color: #00af00\">296,708</span> (1.13 MB)\n",
              "</pre>\n"
            ]
          },
          "metadata": {}
        }
      ]
    },
    {
      "cell_type": "code",
      "source": [
        "import matplotlib.pyplot as plt\n",
        "\n",
        "x = np.arange(1, history.params['epochs'] + 1)\n",
        "for metric, values in history.history.items():\n",
        "  plt.plot(x, values, label=metric)\n",
        "\n",
        "plt.legend()\n",
        "plt.ylabel('Loss')\n",
        "plt.xlabel('Epoch')\n",
        "plt.xticks(x)\n",
        "plt.show()"
      ],
      "metadata": {
        "colab": {
          "base_uri": "https://localhost:8080/",
          "height": 449
        },
        "id": "NxPStpwCahXf",
        "outputId": "b32f6247-5179-4d11-c5e2-f631118c41ef"
      },
      "execution_count": null,
      "outputs": [
        {
          "output_type": "display_data",
          "data": {
            "text/plain": [
              "<Figure size 640x480 with 1 Axes>"
            ],
            "image/png": "[encoded data removed]"
          },
          "metadata": {}
        }
      ]
    },
    {
      "cell_type": "code",
      "source": [
        "test_inputs = (X1_pad_test, X1_mask_test, X2_pad_test, X2_mask_test)\n",
        "enc_dec_results = model.evaluate(test_inputs, y_test)\n",
        "enc_dec_results = [enc_dec_results[0], enc_dec_results[1][\"accuracy\"], enc_dec_results[1][\"enc_dec_precision\"], enc_dec_results[1][\"enc_dec_recall\"]]"
      ],
      "metadata": {
        "colab": {
          "base_uri": "https://localhost:8080/"
        },
        "id": "NW1m3aSXdpms",
        "outputId": "771f29b1-de89-4b8c-de71-019d2618f56f"
      },
      "execution_count": null,
      "outputs": [
        {
          "output_type": "stream",
          "name": "stdout",
          "text": [
            "\u001b[1m313/313\u001b[0m \u001b[32m━━━━━━━━━━━━━━━━━━━━\u001b[0m\u001b[37m\u001b[0m \u001b[1m35s\u001b[0m 107ms/step - accuracy: 0.7341 - enc_dec_precision: 0.6346 - enc_dec_recall: 0.6870 - loss: 0.7190\n"
          ]
        }
      ]
    },
    {
      "cell_type": "markdown",
      "source": [
        "##Step 6: Results Analysis and Conclusion##"
      ],
      "metadata": {
        "id": "WTpbnDwMl_vr"
      }
    },
    {
      "cell_type": "code",
      "source": [
        "categories = [\"Loss\", \"Accuracy\", \"Precision\", \"Recall\"]\n",
        "\n",
        "bar_width = .2\n",
        "\n",
        "x = np.arange(len(categories))\n",
        "plt.bar(x, ffn_results, width=bar_width, label=\"FFN\")\n",
        "plt.bar(x+bar_width, rnn_results, width=bar_width, label=\"RNN\")\n",
        "plt.bar(x+2*bar_width, enc_dec_results, width=bar_width, label=\"EncDec\")\n",
        "\n",
        "plt.xlabel(\"Metrics\")\n",
        "plt.ylabel(\"Values\")\n",
        "plt.title(\"Model Comparison\")\n",
        "plt.xticks(x + bar_width / 2, categories)\n",
        "plt.ylim(0, 1.1)\n",
        "plt.legend()\n",
        "\n",
        "plt.show()"
      ],
      "metadata": {
        "colab": {
          "base_uri": "https://localhost:8080/",
          "height": 472
        },
        "id": "md42O336myKq",
        "outputId": "94d99d6e-53aa-48c9-c7dd-b76a04a12a09"
      },
      "execution_count": null,
      "outputs": [
        {
          "output_type": "display_data",
          "data": {
            "text/plain": [
              "<Figure size 640x480 with 1 Axes>"
            ],
            "image/png": "[encoded data removed]"
          },
          "metadata": {}
        }
      ]
    }
  ],
  "metadata": {
    "colab": {
      "provenance": []
    },
    "kernelspec": {
      "display_name": "Python 3",
      "name": "python3"
    },
    "language_info": {
      "name": "python"
    }
  },
  "nbformat": 4,
  "nbformat_minor": 0
}